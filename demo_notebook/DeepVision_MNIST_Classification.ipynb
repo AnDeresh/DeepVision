{
 "cells": [
  {
   "cell_type": "code",
   "execution_count": 14,
   "id": "931c8e06-429a-4e3e-a482-962e69ca4d41",
   "metadata": {},
   "outputs": [],
   "source": [
    "from tensorflow.keras.datasets import mnist\n",
    "from sklearn.metrics import accuracy_score\n",
    "import matplotlib.pyplot as plt\n",
    "\n",
    "import sys\n",
    "import os\n",
    "\n",
    "sys.path.append(os.path.abspath('..'))\n",
    "\n",
    "from src.mnist_classifier import MnistClassifier"
   ]
  },
  {
   "cell_type": "code",
   "execution_count": 15,
   "id": "56257581-82bb-4053-a0a2-3dfb3d4b4b8c",
   "metadata": {},
   "outputs": [],
   "source": [
    "# Load the MNIST dataset\n",
    "(X_train_full, y_train_full), (X_test, y_test) = mnist.load_data()"
   ]
  },
  {
   "cell_type": "code",
   "execution_count": 16,
   "id": "8aafa992-90d4-4768-82ca-0ba76d255677",
   "metadata": {},
   "outputs": [],
   "source": [
    "# Split the full training data into training and validation sets (e.g., 10% for validation)\n",
    "val_split = 0.1\n",
    "n_train = int((1 - val_split) * X_train_full.shape[0])\n",
    "X_train, X_val = X_train_full[:n_train], X_train_full[n_train:]\n",
    "y_train, y_val = y_train_full[:n_train], y_train_full[n_train:]"
   ]
  },
  {
   "cell_type": "code",
   "execution_count": 17,
   "id": "fec754f0-b158-49be-b75c-388bfcc153dd",
   "metadata": {},
   "outputs": [
    {
     "name": "stdout",
     "output_type": "stream",
     "text": [
      "Training set shape: (54000, 28, 28)\n",
      "Validation set shape: (6000, 28, 28)\n",
      "Test set shape: (10000, 28, 28)\n"
     ]
    }
   ],
   "source": [
    "print(\"Training set shape:\", X_train.shape)\n",
    "print(\"Validation set shape:\", X_val.shape)\n",
    "print(\"Test set shape:\", X_test.shape)"
   ]
  },
  {
   "cell_type": "markdown",
   "id": "ba786c60-82d0-41a2-8512-7a2b40e4456c",
   "metadata": {},
   "source": [
    "##### Random Forest"
   ]
  },
  {
   "cell_type": "code",
   "execution_count": 18,
   "id": "a74be895-5aca-44e5-9cdb-081ca950f844",
   "metadata": {},
   "outputs": [],
   "source": [
    "# For Random Forest, we don't need to provide an input shape.\n",
    "classifier_rf = MnistClassifier(algorithm='rf')"
   ]
  },
  {
   "cell_type": "code",
   "execution_count": 19,
   "id": "2b7c356d-3638-4b96-8d63-367b2d4d7205",
   "metadata": {},
   "outputs": [
    {
     "name": "stdout",
     "output_type": "stream",
     "text": [
      "Validation Accuracy: 0.9753\n"
     ]
    }
   ],
   "source": [
    "# Train the Random Forest model using the training and validation data.\n",
    "classifier_rf.train(X_train, y_train, X_val, y_val)"
   ]
  },
  {
   "cell_type": "code",
   "execution_count": 20,
   "id": "6689581e-ae3d-4c7d-8e11-3a1668239811",
   "metadata": {},
   "outputs": [],
   "source": [
    "# Predict labels on the test set\n",
    "predictions_rf = classifier_rf.predict(X_test)"
   ]
  },
  {
   "cell_type": "code",
   "execution_count": 21,
   "id": "795ffe8f-a6b7-4999-9901-ea681b8b4a9a",
   "metadata": {},
   "outputs": [
    {
     "name": "stdout",
     "output_type": "stream",
     "text": [
      "Random Forest Test Accuracy: 0.9691\n"
     ]
    }
   ],
   "source": [
    "# Evaluate the model's accuracy on the test set.\n",
    "test_accuracy_rf = accuracy_score(y_test, predictions_rf)\n",
    "print(f\"Random Forest Test Accuracy: {test_accuracy_rf:.4f}\")"
   ]
  },
  {
   "cell_type": "code",
   "execution_count": 22,
   "id": "d08bac76-567b-42d1-bd87-eeb776688e50",
   "metadata": {},
   "outputs": [
    {
     "name": "stdout",
     "output_type": "stream",
     "text": [
      "Random Forest Validation Accuracy: 0.9753\n"
     ]
    }
   ],
   "source": [
    "# Optionally, validate the model on the validation set separately.\n",
    "val_accuracy_rf = classifier_rf.validate(X_val, y_val)\n",
    "print(f\"Random Forest Validation Accuracy: {val_accuracy_rf:.4f}\")"
   ]
  },
  {
   "cell_type": "code",
   "execution_count": 23,
   "id": "dccbf8d7-ea48-428b-92f8-d2a60a237ebd",
   "metadata": {},
   "outputs": [
    {
     "data": {
      "image/png": "[encoded data removed]",
      "text/plain": [
       "<Figure size 1500x400 with 10 Axes>"
      ]
     },
     "metadata": {},
     "output_type": "display_data"
    }
   ],
   "source": [
    "# Display the first 10 test images with their predicted labels.\n",
    "n_images = 10\n",
    "\n",
    "plt.figure(figsize=(15, 4))\n",
    "for i in range(n_images):\n",
    "    plt.subplot(1, n_images, i+1)\n",
    "    plt.imshow(X_test[i], cmap='gray')  # Display the image in grayscale\n",
    "    plt.title(f\"Pred: {predictions_rf[i]}\")  # Set the title as the predicted label\n",
    "    plt.axis('off')  # Hide axis ticks for clarity\n",
    "plt.show()"
   ]
  },
  {
   "cell_type": "markdown",
   "id": "e288bad7-b740-41b5-9a50-0d7144efc3ba",
   "metadata": {},
   "source": [
    "##### Feed-Forward Neural Network (FFNN)"
   ]
  },
  {
   "cell_type": "code",
   "execution_count": null,
   "id": "08847f51-29db-4460-ab9d-c4b650102403",
   "metadata": {},
   "outputs": [],
   "source": [
    "# For FFNN, the input shape is (28, 28) since the model expects a 2D input that it will flatten.\n",
    "classifier_nn = MnistClassifier(algorithm='nn', input_shape=(28, 28), num_classes=10)"
   ]
  },
  {
   "cell_type": "code",
   "execution_count": 25,
   "id": "38abe9cd-a66d-4b89-bbc9-ccea3c2a663d",
   "metadata": {},
   "outputs": [
    {
     "name": "stdout",
     "output_type": "stream",
     "text": [
      "Epoch 1/5\n",
      "\u001b[1m844/844\u001b[0m \u001b[32m━━━━━━━━━━━━━━━━━━━━\u001b[0m\u001b[37m\u001b[0m \u001b[1m1s\u001b[0m 995us/step - accuracy: 0.8539 - loss: 0.5231\n",
      "Epoch 2/5\n",
      "\u001b[1m844/844\u001b[0m \u001b[32m━━━━━━━━━━━━━━━━━━━━\u001b[0m\u001b[37m\u001b[0m \u001b[1m1s\u001b[0m 979us/step - accuracy: 0.9558 - loss: 0.1553\n",
      "Epoch 3/5\n",
      "\u001b[1m844/844\u001b[0m \u001b[32m━━━━━━━━━━━━━━━━━━━━\u001b[0m\u001b[37m\u001b[0m \u001b[1m1s\u001b[0m 1ms/step - accuracy: 0.9704 - loss: 0.1042\n",
      "Epoch 4/5\n",
      "\u001b[1m844/844\u001b[0m \u001b[32m━━━━━━━━━━━━━━━━━━━━\u001b[0m\u001b[37m\u001b[0m \u001b[1m1s\u001b[0m 995us/step - accuracy: 0.9771 - loss: 0.0774\n",
      "Epoch 5/5\n",
      "\u001b[1m844/844\u001b[0m \u001b[32m━━━━━━━━━━━━━━━━━━━━\u001b[0m\u001b[37m\u001b[0m \u001b[1m1s\u001b[0m 1ms/step - accuracy: 0.9821 - loss: 0.0611\n",
      "\u001b[1m188/188\u001b[0m \u001b[32m━━━━━━━━━━━━━━━━━━━━\u001b[0m\u001b[37m\u001b[0m \u001b[1m0s\u001b[0m 531us/step\n",
      "Validation Accuracy: 0.9775\n"
     ]
    }
   ],
   "source": [
    "# Train the FFNN model using the training and validation data.\n",
    "# Here, we specify the number of epochs and the batch size.\n",
    "classifier_nn.train(X_train, y_train, X_val, y_val, epochs=5, batch_size=64)"
   ]
  },
  {
   "cell_type": "code",
   "execution_count": 26,
   "id": "c7327f59-584a-4586-b2d3-e4ffd1c950de",
   "metadata": {},
   "outputs": [
    {
     "name": "stdout",
     "output_type": "stream",
     "text": [
      "\u001b[1m313/313\u001b[0m \u001b[32m━━━━━━━━━━━━━━━━━━━━\u001b[0m\u001b[37m\u001b[0m \u001b[1m0s\u001b[0m 498us/step\n"
     ]
    }
   ],
   "source": [
    "# Predict labels on the test set using the FFNN model.\n",
    "predictions_nn = classifier_nn.predict(X_test)"
   ]
  },
  {
   "cell_type": "code",
   "execution_count": 27,
   "id": "00fd0a01-32ad-4af9-b31e-90eaf933fb10",
   "metadata": {},
   "outputs": [
    {
     "name": "stdout",
     "output_type": "stream",
     "text": [
      "FFNN Test Accuracy: 0.9744\n"
     ]
    }
   ],
   "source": [
    "# Evaluate the FFNN model's accuracy on the test set.\n",
    "test_accuracy_nn = accuracy_score(y_test, predictions_nn)\n",
    "print(f\"FFNN Test Accuracy: {test_accuracy_nn:.4f}\")"
   ]
  },
  {
   "cell_type": "code",
   "execution_count": 28,
   "id": "bb57a76e-6c3a-4598-be9f-c7e78a20ca1c",
   "metadata": {},
   "outputs": [
    {
     "name": "stdout",
     "output_type": "stream",
     "text": [
      "\u001b[1m188/188\u001b[0m \u001b[32m━━━━━━━━━━━━━━━━━━━━\u001b[0m\u001b[37m\u001b[0m \u001b[1m0s\u001b[0m 509us/step\n",
      "FFNN Validation Accuracy: 0.9775\n"
     ]
    }
   ],
   "source": [
    "# Optionally, validate the model on the validation set separately.\n",
    "val_accuracy_nn = classifier_nn.validate(X_val, y_val)\n",
    "print(f\"FFNN Validation Accuracy: {val_accuracy_nn:.4f}\")"
   ]
  },
  {
   "cell_type": "code",
   "execution_count": 29,
   "id": "86b768d7-9730-4a0d-8374-48c02b5491c0",
   "metadata": {},
   "outputs": [
    {
     "data": {
      "image/png": "[encoded data removed]",
      "text/plain": [
       "<Figure size 1500x400 with 10 Axes>"
      ]
     },
     "metadata": {},
     "output_type": "display_data"
    }
   ],
   "source": [
    "n_images = 10\n",
    "plt.figure(figsize=(15, 4))\n",
    "for i in range(n_images):\n",
    "    plt.subplot(1, n_images, i+1)\n",
    "    plt.imshow(X_test[i], cmap='gray')\n",
    "    plt.title(f\"Pred: {predictions_nn[i]}\")\n",
    "    plt.axis('off')\n",
    "plt.show()"
   ]
  },
  {
   "cell_type": "markdown",
   "id": "2ec664a9-6b5c-49bf-ad4c-9197da1239b1",
   "metadata": {},
   "source": [
    "##### Convolutional Neural Network (CNN)"
   ]
  },
  {
   "cell_type": "code",
   "execution_count": null,
   "id": "b9c6862b-3167-4df4-ac0b-4fe3b47cd588",
   "metadata": {},
   "outputs": [],
   "source": [
    "# For CNN, the input shape is (28, 28, 1) to include the single channel for grayscale images.\n",
    "classifier_cnn = MnistClassifier(algorithm='cnn', input_shape=(28, 28, 1), num_classes=10)"
   ]
  },
  {
   "cell_type": "code",
   "execution_count": 31,
   "id": "0ceb4656-9ba4-472d-b78e-473022c1060e",
   "metadata": {},
   "outputs": [
    {
     "name": "stdout",
     "output_type": "stream",
     "text": [
      "Epoch 1/5\n",
      "\u001b[1m844/844\u001b[0m \u001b[32m━━━━━━━━━━━━━━━━━━━━\u001b[0m\u001b[37m\u001b[0m \u001b[1m4s\u001b[0m 4ms/step - accuracy: 0.8873 - loss: 0.3839\n",
      "Epoch 2/5\n",
      "\u001b[1m844/844\u001b[0m \u001b[32m━━━━━━━━━━━━━━━━━━━━\u001b[0m\u001b[37m\u001b[0m \u001b[1m3s\u001b[0m 3ms/step - accuracy: 0.9818 - loss: 0.0571\n",
      "Epoch 3/5\n",
      "\u001b[1m844/844\u001b[0m \u001b[32m━━━━━━━━━━━━━━━━━━━━\u001b[0m\u001b[37m\u001b[0m \u001b[1m3s\u001b[0m 3ms/step - accuracy: 0.9897 - loss: 0.0336\n",
      "Epoch 4/5\n",
      "\u001b[1m844/844\u001b[0m \u001b[32m━━━━━━━━━━━━━━━━━━━━\u001b[0m\u001b[37m\u001b[0m \u001b[1m3s\u001b[0m 3ms/step - accuracy: 0.9926 - loss: 0.0228\n",
      "Epoch 5/5\n",
      "\u001b[1m844/844\u001b[0m \u001b[32m━━━━━━━━━━━━━━━━━━━━\u001b[0m\u001b[37m\u001b[0m \u001b[1m3s\u001b[0m 3ms/step - accuracy: 0.9945 - loss: 0.0178\n",
      "\u001b[1m188/188\u001b[0m \u001b[32m━━━━━━━━━━━━━━━━━━━━\u001b[0m\u001b[37m\u001b[0m \u001b[1m0s\u001b[0m 1ms/step\n",
      "Validation Accuracy: 0.9882\n"
     ]
    }
   ],
   "source": [
    "# Train the CNN model using the training and validation data.\n",
    "# You can adjust the number of epochs and batch size as needed.\n",
    "classifier_cnn.train(X_train, y_train, X_val, y_val, epochs=5, batch_size=64)"
   ]
  },
  {
   "cell_type": "code",
   "execution_count": 32,
   "id": "f70f1b4e-9fe1-4a98-a489-73121f1e623b",
   "metadata": {},
   "outputs": [
    {
     "name": "stdout",
     "output_type": "stream",
     "text": [
      "\u001b[1m313/313\u001b[0m \u001b[32m━━━━━━━━━━━━━━━━━━━━\u001b[0m\u001b[37m\u001b[0m \u001b[1m0s\u001b[0m 1ms/step\n"
     ]
    }
   ],
   "source": [
    "# Predict labels on the test set using the CNN model.\n",
    "predictions_cnn = classifier_cnn.predict(X_test)"
   ]
  },
  {
   "cell_type": "code",
   "execution_count": 33,
   "id": "869fcf63-c0bb-4c5d-86d4-e538f39515ac",
   "metadata": {},
   "outputs": [
    {
     "name": "stdout",
     "output_type": "stream",
     "text": [
      "CNN Test Accuracy: 0.9885\n"
     ]
    }
   ],
   "source": [
    "# Evaluate the CNN model's accuracy on the test set.\n",
    "test_accuracy_cnn = accuracy_score(y_test, predictions_cnn)\n",
    "print(f\"CNN Test Accuracy: {test_accuracy_cnn:.4f}\")"
   ]
  },
  {
   "cell_type": "code",
   "execution_count": 34,
   "id": "7aff0e43-eb7e-4295-9cbe-0e0401631f5d",
   "metadata": {},
   "outputs": [
    {
     "name": "stdout",
     "output_type": "stream",
     "text": [
      "\u001b[1m188/188\u001b[0m \u001b[32m━━━━━━━━━━━━━━━━━━━━\u001b[0m\u001b[37m\u001b[0m \u001b[1m0s\u001b[0m 1ms/step\n",
      "CNN Validation Accuracy: 0.9882\n"
     ]
    }
   ],
   "source": [
    "# Optionally, validate the model on the validation set separately.\n",
    "val_accuracy_cnn = classifier_cnn.validate(X_val, y_val)\n",
    "print(f\"CNN Validation Accuracy: {val_accuracy_cnn:.4f}\")"
   ]
  },
  {
   "cell_type": "code",
   "execution_count": 35,
   "id": "cec4c527-f335-48fc-bcb6-b86b27ef3e02",
   "metadata": {},
   "outputs": [
    {
     "data": {
      "image/png": "[encoded data removed]",
      "text/plain": [
       "<Figure size 1500x400 with 10 Axes>"
      ]
     },
     "metadata": {},
     "output_type": "display_data"
    }
   ],
   "source": [
    "n_images = 10\n",
    "plt.figure(figsize=(15, 4))\n",
    "for i in range(n_images):\n",
    "    plt.subplot(1, n_images, i+1)\n",
    "    plt.imshow(X_test[i], cmap='gray')\n",
    "    plt.title(f\"Pred: {predictions_cnn[i]}\")\n",
    "    plt.axis('off')\n",
    "plt.show()"
   ]
  }
 ],
 "metadata": {
  "kernelspec": {
   "display_name": "deepvision_gpu_env",
   "language": "python",
   "name": "python3"
  },
  "language_info": {
   "codemirror_mode": {
    "name": "ipython",
    "version": 3
   },
   "file_extension": ".py",
   "mimetype": "text/x-python",
   "name": "python",
   "nbconvert_exporter": "python",
   "pygments_lexer": "ipython3",
   "version": "3.12.0"
  }
 },
 "nbformat": 4,
 "nbformat_minor": 5
}
